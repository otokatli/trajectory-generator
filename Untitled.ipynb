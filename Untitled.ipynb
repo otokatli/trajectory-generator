{
 "cells": [
  {
   "cell_type": "code",
   "execution_count": 4,
   "id": "180d3c47-7a65-4c77-baf1-f5e5e1bb9e0c",
   "metadata": {},
   "outputs": [],
   "source": [
    "import numpy as np\n",
    "import trajectory as tr"
   ]
  },
  {
   "cell_type": "markdown",
   "id": "16239fbe-78ff-4781-b7a8-4a09b0dce8ee",
   "metadata": {},
   "source": [
    "Simulation parameters"
   ]
  },
  {
   "cell_type": "code",
   "execution_count": 11,
   "id": "1e0e6c14-b244-4309-8ba0-a184a805bff2",
   "metadata": {},
   "outputs": [],
   "source": [
    "# Starting and stopping time of the simulation\n",
    "t_start = 0\n",
    "t_stop = 16\n",
    "\n",
    "# Sampling time of the simulation\n",
    "T = 10.0 / 2048.0\n",
    "\n",
    "# Time vector\n",
    "t_vec = np.arange(t_start, t_stop, T)"
   ]
  },
  {
   "cell_type": "code",
   "execution_count": 12,
   "id": "f95830ef-b385-46ab-a65e-ac9b7a889d49",
   "metadata": {},
   "outputs": [
    {
     "data": {
      "text/plain": [
       "15.99609375"
      ]
     },
     "execution_count": 12,
     "metadata": {},
     "output_type": "execute_result"
    }
   ],
   "source": [
    "t_vec[-1]"
   ]
  }
 ],
 "metadata": {
  "kernelspec": {
   "display_name": "Python 3 (ipykernel)",
   "language": "python",
   "name": "python3"
  },
  "language_info": {
   "codemirror_mode": {
    "name": "ipython",
    "version": 3
   },
   "file_extension": ".py",
   "mimetype": "text/x-python",
   "name": "python",
   "nbconvert_exporter": "python",
   "pygments_lexer": "ipython3",
   "version": "3.10.4"
  }
 },
 "nbformat": 4,
 "nbformat_minor": 5
}
